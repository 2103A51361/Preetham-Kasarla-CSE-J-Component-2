{
  "nbformat": 4,
  "nbformat_minor": 0,
  "metadata": {
    "colab": {
      "provenance": []
    },
    "kernelspec": {
      "name": "python3",
      "display_name": "Python 3"
    },
    "language_info": {
      "name": "python"
    }
  },
  "cells": [
    {
      "cell_type": "code",
      "execution_count": 1,
      "metadata": {
        "id": "cqVGTR8aZDyN"
      },
      "outputs": [],
      "source": [
        "import pandas as pd\n",
        "import numpy as np\n",
        "from sklearn import model_selection\n",
        "from sklearn.linear_model import LinearRegression\n",
        "from sklearn.linear_model import Ridge\n",
        "from sklearn.linear_model import Lasso\n",
        "from sklearn.neighbors import KNeighborsRegressor\n",
        "from sklearn.model_selection import train_test_split\n",
        "from sklearn.metrics import mean_squared_error\n",
        "from math import sqrt"
      ]
    },
    {
      "cell_type": "code",
      "source": [
        "data=pd.read_csv('/content/Salary_Data-1.csv')\n",
        "print(data)"
      ],
      "metadata": {
        "colab": {
          "base_uri": "https://localhost:8080/"
        },
        "id": "z1j0-O6fZMkH",
        "outputId": "0b350bac-baa7-4889-e681-5f61a2e3aa2b"
      },
      "execution_count": 4,
      "outputs": [
        {
          "output_type": "stream",
          "name": "stdout",
          "text": [
            "    YearsExperience    Salary\n",
            "0               1.1   39343.0\n",
            "1               1.3   46205.0\n",
            "2               1.5   37731.0\n",
            "3               2.0   43525.0\n",
            "4               2.2   39891.0\n",
            "5               2.9   56642.0\n",
            "6               3.0   60150.0\n",
            "7               3.2   54445.0\n",
            "8               3.2   64445.0\n",
            "9               3.7   57189.0\n",
            "10              3.9   63218.0\n",
            "11              4.0   55794.0\n",
            "12              4.0   56957.0\n",
            "13              4.1   57081.0\n",
            "14              4.5   61111.0\n",
            "15              4.9   67938.0\n",
            "16              5.1   66029.0\n",
            "17              5.3   83088.0\n",
            "18              5.9   81363.0\n",
            "19              6.0   93940.0\n",
            "20              6.8   91738.0\n",
            "21              7.1   98273.0\n",
            "22              7.9  101302.0\n",
            "23              8.2  113812.0\n",
            "24              8.7  109431.0\n",
            "25              9.0  105582.0\n",
            "26              9.5  116969.0\n",
            "27              9.6  112635.0\n",
            "28             10.3  122391.0\n",
            "29             10.5  121872.0\n"
          ]
        }
      ]
    },
    {
      "cell_type": "code",
      "source": [
        "x=data.iloc[:,0:1]\n",
        "y=data.iloc[:,1:2]\n",
        "print(x,y)"
      ],
      "metadata": {
        "colab": {
          "base_uri": "https://localhost:8080/"
        },
        "id": "ZN52IFkfZXzX",
        "outputId": "58dc672e-e490-4656-cb2a-d8a19a685261"
      },
      "execution_count": 6,
      "outputs": [
        {
          "output_type": "stream",
          "name": "stdout",
          "text": [
            "    YearsExperience\n",
            "0               1.1\n",
            "1               1.3\n",
            "2               1.5\n",
            "3               2.0\n",
            "4               2.2\n",
            "5               2.9\n",
            "6               3.0\n",
            "7               3.2\n",
            "8               3.2\n",
            "9               3.7\n",
            "10              3.9\n",
            "11              4.0\n",
            "12              4.0\n",
            "13              4.1\n",
            "14              4.5\n",
            "15              4.9\n",
            "16              5.1\n",
            "17              5.3\n",
            "18              5.9\n",
            "19              6.0\n",
            "20              6.8\n",
            "21              7.1\n",
            "22              7.9\n",
            "23              8.2\n",
            "24              8.7\n",
            "25              9.0\n",
            "26              9.5\n",
            "27              9.6\n",
            "28             10.3\n",
            "29             10.5       Salary\n",
            "0    39343.0\n",
            "1    46205.0\n",
            "2    37731.0\n",
            "3    43525.0\n",
            "4    39891.0\n",
            "5    56642.0\n",
            "6    60150.0\n",
            "7    54445.0\n",
            "8    64445.0\n",
            "9    57189.0\n",
            "10   63218.0\n",
            "11   55794.0\n",
            "12   56957.0\n",
            "13   57081.0\n",
            "14   61111.0\n",
            "15   67938.0\n",
            "16   66029.0\n",
            "17   83088.0\n",
            "18   81363.0\n",
            "19   93940.0\n",
            "20   91738.0\n",
            "21   98273.0\n",
            "22  101302.0\n",
            "23  113812.0\n",
            "24  109431.0\n",
            "25  105582.0\n",
            "26  116969.0\n",
            "27  112635.0\n",
            "28  122391.0\n",
            "29  121872.0\n"
          ]
        }
      ]
    },
    {
      "cell_type": "code",
      "source": [
        "x_train,x_test,y_train,y_test=train_test_split(x,y,test_size=0.10,random_state=5)\n",
        "print(x_train.shape)\n",
        "print(y_train.shape)\n",
        "print(x_test.shape)\n",
        "print(y_test.shape)"
      ],
      "metadata": {
        "colab": {
          "base_uri": "https://localhost:8080/"
        },
        "id": "6PYvjMG1ZYhQ",
        "outputId": "5ceb994b-0986-41e1-b312-af5a4261e667"
      },
      "execution_count": 7,
      "outputs": [
        {
          "output_type": "stream",
          "name": "stdout",
          "text": [
            "(27, 1)\n",
            "(27, 1)\n",
            "(3, 1)\n",
            "(3, 1)\n"
          ]
        }
      ]
    },
    {
      "cell_type": "code",
      "source": [
        "#linear regression\n",
        "lr = LinearRegression()\n",
        "lr.fit(x_train, y_train)"
      ],
      "metadata": {
        "colab": {
          "base_uri": "https://localhost:8080/"
        },
        "id": "0fWlYvElaZ5Y",
        "outputId": "3d5e7052-53d2-4698-e7bf-80273328fe3c"
      },
      "execution_count": 8,
      "outputs": [
        {
          "output_type": "execute_result",
          "data": {
            "text/plain": [
              "LinearRegression()"
            ]
          },
          "metadata": {},
          "execution_count": 8
        }
      ]
    },
    {
      "cell_type": "code",
      "source": [
        "pred_train_lr= lr.predict(x_train)\n",
        "print(np.sqrt(mean_squared_error(y_train,pred_train_lr)))\n",
        "\n",
        "pred_test_lr= lr.predict(x_test)\n",
        "print(np.sqrt(mean_squared_error(y_test,pred_test_lr)))"
      ],
      "metadata": {
        "colab": {
          "base_uri": "https://localhost:8080/"
        },
        "id": "ZVCOIys_aeBG",
        "outputId": "3fb2d127-b43f-4573-dc6e-27f61e4ef88c"
      },
      "execution_count": 9,
      "outputs": [
        {
          "output_type": "stream",
          "name": "stdout",
          "text": [
            "5282.8476807552925\n",
            "7920.751571993225\n"
          ]
        }
      ]
    },
    {
      "cell_type": "code",
      "source": [
        "#Ridge regression\n",
        "rr = Ridge(alpha=0.01)\n",
        "rr.fit(x_train, y_train) \n",
        "pred_train_rr= rr.predict(x_train)\n",
        "print(np.sqrt(mean_squared_error(y_train,pred_train_rr)))\n",
        "\n",
        "pred_test_rr= rr.predict(x_test)\n",
        "print(np.sqrt(mean_squared_error(y_test,pred_test_rr)))"
      ],
      "metadata": {
        "colab": {
          "base_uri": "https://localhost:8080/"
        },
        "id": "SL-D73XtajLc",
        "outputId": "e9b3f3bf-9f71-4f64-9cf3-06bfaa82fd9a"
      },
      "execution_count": 10,
      "outputs": [
        {
          "output_type": "stream",
          "name": "stdout",
          "text": [
            "5282.847837154912\n",
            "7921.338616335052\n"
          ]
        }
      ]
    },
    {
      "cell_type": "code",
      "source": [
        "#Lasso regression\n",
        "model_lasso = Lasso(alpha=0.01)\n",
        "model_lasso.fit(x_train, y_train) \n",
        "pred_train_lasso= model_lasso.predict(x_train)\n",
        "print(np.sqrt(mean_squared_error(y_train,pred_train_lasso)))\n",
        "\n",
        "pred_test_lasso= model_lasso.predict(x_test)\n",
        "print(np.sqrt(mean_squared_error(y_test,pred_test_lasso)))"
      ],
      "metadata": {
        "colab": {
          "base_uri": "https://localhost:8080/"
        },
        "id": "b_g21W0WanVg",
        "outputId": "108e3aa4-32e1-4764-fcd7-a21d528cf66e"
      },
      "execution_count": 11,
      "outputs": [
        {
          "output_type": "stream",
          "name": "stdout",
          "text": [
            "5282.847680756601\n",
            "7920.753271209608\n"
          ]
        }
      ]
    }
  ]
}